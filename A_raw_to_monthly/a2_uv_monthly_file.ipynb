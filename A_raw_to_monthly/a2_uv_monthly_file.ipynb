{
 "cells": [
  {
   "cell_type": "markdown",
   "id": "c1261714",
   "metadata": {},
   "source": [
    "Create files with monthly time series of mooring data in the Central and Dotson trough\n",
    "\n",
    "Need these to plot the mean direction of the flow in the location plot"
   ]
  },
  {
   "cell_type": "code",
   "execution_count": 1,
   "id": "eef9914c",
   "metadata": {},
   "outputs": [],
   "source": [
    "import numpy as np\n",
    "from numpy import ma\n",
    "\n",
    "import xarray as xr\n",
    "import pandas as pd\n",
    "\n",
    "import matplotlib.dates as mdates\n",
    "import matplotlib as mpl\n",
    "\n",
    "import sys\n",
    "import gsw"
   ]
  },
  {
   "cell_type": "code",
   "execution_count": 2,
   "id": "62a41f1b",
   "metadata": {},
   "outputs": [],
   "source": [
    "#-------------------------------------------------------------------\n",
    "# Directories\n",
    "#-------------------------------------------------------------------\n",
    "voldir = '/Volumes/SamT5/PhD/data/'\n",
    "mdir = voldir + 'moorings/dragomir_phd/'\n",
    "\n",
    "localdir = '/Users/ocd1n16/PhD_git/'\n",
    "\n",
    "auxscriptdir = localdir + 'aux_func/'\n",
    "sys.path.append(auxscriptdir)\n",
    "import aux_func_trend as fc"
   ]
  },
  {
   "cell_type": "markdown",
   "id": "454be858",
   "metadata": {},
   "source": [
    "### DT"
   ]
  },
  {
   "cell_type": "code",
   "execution_count": 3,
   "id": "1d54315d",
   "metadata": {},
   "outputs": [],
   "source": [
    "# time end points\n",
    "s1_start = '2010-03-01'\n",
    "s1_end = '2015-12-30'"
   ]
  },
  {
   "cell_type": "code",
   "execution_count": 4,
   "id": "6528745c",
   "metadata": {},
   "outputs": [
    {
     "name": "stdout",
     "output_type": "stream",
     "text": [
      "KeysView(<xarray.Dataset>\n",
      "Dimensions:  (time: 51839, depth: 18)\n",
      "Coordinates:\n",
      "  * time     (time) datetime64[ns] 2010-02-15T15:00:00 ... 2016-01-17T03:00:00\n",
      "  * depth    (depth) float64 404.0 412.0 420.0 428.0 ... 516.0 524.0 532.0 540.0\n",
      "Data variables:\n",
      "    u        (time, depth) float64 ...\n",
      "    v        (time, depth) float64 ...\n",
      "Attributes:\n",
      "    lon:      -116.358\n",
      "    lat:      -72.468)\n"
     ]
    }
   ],
   "source": [
    "# S1 mooring data file\n",
    "# 8 m grid\n",
    "mfile = 's1_raw_uv_hourly_adcp_404m_540m_2010_2016.nc'\n",
    "\n",
    "# depth range (412, 528)\n",
    "dep_min_max = [412, 528]\n",
    "\n",
    "with xr.open_dataset(mdir + mfile) as s1moor:\n",
    "    print(s1moor.keys())\n",
    "\n",
    "s1 = s1moor.sel(depth=slice(dep_min_max[0], dep_min_max[1]))\n",
    "\n",
    "# average data daily\n",
    "s1d = s1.resample(time=\"1D\").mean()\n",
    "\n",
    "# projection on rotated reference frame\n",
    "tim, dep = s1d.u.shape\n",
    "rot_u, rot_v = [np.ones((tim, dep)) for _ in range(2)]\n",
    "\n",
    "for i in range(dep):\n",
    "    rot_vel = fc.rotate_frame(s1d.u.isel(depth=i), s1d.v.isel(depth=i), 51, 'clockwise')\n",
    "    rot_u[:, i] = rot_vel.u.values\n",
    "    rot_v[:, i] = rot_vel.v.values\n",
    "    \n",
    "# add new components to existing dataset\n",
    "s1d[\"u_rot\"] = ((\"time\", 'depth'), rot_u)\n",
    "s1d[\"v_rot\"] = ((\"time\", \"depth\"), rot_v)\n",
    "\n",
    "# average with depth + change units to cm/s to match CT\n",
    "ts1d = s1d.mean(\"depth\") * 1e2"
   ]
  },
  {
   "cell_type": "code",
   "execution_count": 6,
   "id": "f7226189",
   "metadata": {},
   "outputs": [],
   "source": [
    "ts1d.attrs['description'] = \"Daily time means of depth-averaged (412-528m) velocity components at S1.\"\\\n",
    "\"_rot = velocity components are projected onto a 42 deg clockwise rotated frame.\"\n",
    "ts1d.attrs[\"units\"] = 'cm/s'\n",
    "ts1d.to_netcdf(mdir + \"daily_dt_uv.nc\")"
   ]
  },
  {
   "cell_type": "code",
   "execution_count": 7,
   "id": "666f351b",
   "metadata": {},
   "outputs": [],
   "source": [
    "# monthly averages\n",
    "mts1 = ts1d.resample(time=\"1MS\").mean()\n",
    "mts1 = mts1.sel(time=slice(s1_start, s1_end))"
   ]
  },
  {
   "cell_type": "code",
   "execution_count": 8,
   "id": "e600400c",
   "metadata": {},
   "outputs": [],
   "source": [
    "mts1.attrs['description'] = \"Monthly time means of depth-averaged (412-528m) \"\\\n",
    "    \"velocity components at S1. \"\\\n",
    "    \"_rot = velocity components are projected onto a 42 deg clockwise rotated frame.\"\n",
    "\n",
    "mts1.to_netcdf(mdir + \"monthly_dt_uv.nc\")"
   ]
  },
  {
   "cell_type": "markdown",
   "id": "6bb273ed",
   "metadata": {},
   "source": [
    "### CT"
   ]
  },
  {
   "cell_type": "code",
   "execution_count": 9,
   "id": "2b0fcd1f",
   "metadata": {},
   "outputs": [],
   "source": [
    "#------------------------------------------------------------------\n",
    "#            ~ ~ ~    OTHER MOORINGS     ~ ~ ~   \n",
    "#------------------------------------------------------------------\n",
    "# hourly\n",
    "#bsr12_0 = xr.open_dataset(mdir_pd + 'bsr12_0_raw.nc') # 400 m\n",
    "bsr12_1 = xr.open_dataset(mdir + 'bsr12_1_raw.nc') # 553 m\n",
    "bsr13 = xr.open_dataset(mdir + 'bsr13a_raw.nc') # 338 m\n",
    "\n",
    "istar1 = xr.open_dataset(mdir + 'istar1_raw.nc') # 581 m\n",
    "\n",
    "troughW0 = xr.open_dataset(mdir + 'troughW0_raw.nc') # 423 m\n",
    "troughW1 = xr.open_dataset(mdir + 'troughW1_raw.nc') # 555 m\n",
    "\n",
    "troughE0 = xr.open_dataset(mdir + 'troughE0_raw.nc') # 467 m\n",
    "troughE1 = xr.open_dataset(mdir + 'troughE1_raw.nc') # 595 m\n",
    "\n",
    "# daily means\n",
    "bsr12_d = bsr12_1.resample(time='1D').mean()\n",
    "bsr13_d = bsr13.resample(time='1D').mean()\n",
    "istar1_d = istar1.resample(time='1D').mean()\n",
    "troughW1_d = troughW1.resample(time='1D').mean()\n",
    "troughE1_d = troughE1.resample(time='1D').mean()\n",
    "\n",
    "# vel components projected onto rotated frame; daily averages\n",
    "bsr12_rot = fc.rotate_frame(bsr12_d.u, bsr12_d.v, 56, 'clockwise')\n",
    "bsr13_rot = fc.rotate_frame(bsr13_d.u, bsr13_d.v, 17, 'anticlockwise')\n",
    "istar1_rot = fc.rotate_frame(istar1_d.u, istar1_d.v, 47, 'clockwise')\n",
    "troughW1_rot = fc.rotate_frame(troughW1_d.u, troughW1_d.v, 52, 'clockwise')\n",
    "#troughE1_rot = fc.rotate_frame(troughE1_d.u, troughE1_d.v, 26, 'clockwise')"
   ]
  },
  {
   "cell_type": "code",
   "execution_count": 10,
   "id": "00810adc",
   "metadata": {},
   "outputs": [],
   "source": [
    "bsr12_d[\"u_rot\"] = (\"time\", bsr12_rot.u.values)\n",
    "bsr12_d[\"v_rot\"] = (\"time\", bsr12_rot.v.values)\n",
    "\n",
    "bsr13_d[\"u_rot\"] = (\"time\", bsr13_rot.u.values)\n",
    "bsr13_d[\"v_rot\"] = (\"time\", bsr13_rot.v.values)\n",
    "\n",
    "istar1_d[\"u_rot\"] = (\"time\", istar1_rot.u.values)\n",
    "istar1_d[\"v_rot\"] = (\"time\", istar1_rot.v.values)\n",
    "\n",
    "troughW1_d[\"u_rot\"] = (\"time\", troughW1_rot.u.values)\n",
    "troughW1_d[\"v_rot\"] = (\"time\", troughW1_rot.v.values)"
   ]
  },
  {
   "cell_type": "code",
   "execution_count": 11,
   "id": "a7105d42",
   "metadata": {},
   "outputs": [],
   "source": [
    "bsr12_d.attrs['description'] = 'Daily time means of velocity components of BSR12 at 553 m. rotation angle=54c'\n",
    "bsr13_d.attrs['description'] = 'Daily time means of velocity components of BSR13a at 338 m. rotation angle=32a'\n",
    "istar1_d.attrs['description'] = 'Daily time means of velocity components of istar1 at 581 m. rotation angle=46c'\n",
    "troughW1_d.attrs['description'] = 'Daily time means of velocity components of troughW at 555 m. rotation angle=53c'\n",
    "\n",
    "bsr12_d.to_netcdf(mdir + 'daily_bsr12_uv.nc')\n",
    "bsr13_d.to_netcdf(mdir + 'daily_bsr13_uv.nc')\n",
    "istar1_d.to_netcdf(mdir + 'daily_istar1_uv.nc')\n",
    "troughW1_d.to_netcdf(mdir + 'daily_troughW_uv.nc')"
   ]
  },
  {
   "cell_type": "markdown",
   "id": "82795bde",
   "metadata": {},
   "source": [
    "### Monthly averages"
   ]
  },
  {
   "cell_type": "code",
   "execution_count": 12,
   "id": "f20d0339",
   "metadata": {},
   "outputs": [],
   "source": [
    "# monthly averages\n",
    "bsr12_m = bsr12_d.resample(time='1MS').mean().sel(time=slice('2009-03-01', '2010-12-01'))\n",
    "bsr13_m = bsr13_d.resample(time='1MS').mean().sel(time=slice('2011-01-01', '2012-02-01'))\n",
    "istar1_m = istar1_d.resample(time='1MS').mean().sel(time=slice('2012-03-01', '2014-02-01'))\n",
    "troughW_m = troughW1_d.resample(time='1MS').mean().sel(time=slice('2014-03-01', '2016-01-01'))"
   ]
  },
  {
   "cell_type": "code",
   "execution_count": 13,
   "id": "27c76e5c",
   "metadata": {},
   "outputs": [],
   "source": [
    "bsr12_m.attrs['description'] = 'Monthly time means of velocity components of BSR12 at 553 m. rotation angle=54c'\n",
    "bsr13_m.attrs['description'] = 'Monthly time means of velocity components of BSR13a at 338 m. rotation angle=32a'\n",
    "istar1_m.attrs['description'] = 'Monthly time means of velocity components of istar1 at 581 m. rotation angle=46c'\n",
    "troughW_m.attrs['description'] = 'Monthly time means of velocity components of troughW at 555 m. rotation angle=53c'\n",
    "\n",
    "bsr12_m.to_netcdf(mdir + 'monthly_bsr12_uv.nc')\n",
    "bsr13_m.to_netcdf(mdir + 'monthly_bsr13_uv.nc')\n",
    "istar1_m.to_netcdf(mdir + 'monthly_istar1_uv.nc')\n",
    "troughW_m.to_netcdf(mdir + 'monthly_troughW_uv.nc')"
   ]
  },
  {
   "cell_type": "code",
   "execution_count": null,
   "id": "ff6c7993",
   "metadata": {},
   "outputs": [],
   "source": []
  }
 ],
 "metadata": {
  "kernelspec": {
   "display_name": "Python 3",
   "language": "python",
   "name": "python3"
  },
  "language_info": {
   "codemirror_mode": {
    "name": "ipython",
    "version": 3
   },
   "file_extension": ".py",
   "mimetype": "text/x-python",
   "name": "python",
   "nbconvert_exporter": "python",
   "pygments_lexer": "ipython3",
   "version": "3.9.4"
  }
 },
 "nbformat": 4,
 "nbformat_minor": 5
}
