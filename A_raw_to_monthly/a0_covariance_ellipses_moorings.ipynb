{
 "cells": [
  {
   "cell_type": "markdown",
   "id": "f6d661c7",
   "metadata": {},
   "source": [
    "# Covariance ellipses (red) for determining the direction of rotation for the current vs the time mean of the flow (blue)"
   ]
  },
  {
   "cell_type": "code",
   "execution_count": null,
   "id": "31b5fd6a",
   "metadata": {},
   "outputs": [],
   "source": []
  },
  {
   "cell_type": "markdown",
   "id": "1cf680d4",
   "metadata": {},
   "source": [
    "Compute monthly means for every mooring current data.\n",
    "\n",
    "Crop months that have less than 2/3 of the data (here it means removing the end points/months.\n",
    "\n",
    "Remove the time mean.\n",
    "\n",
    "The direction of flow is defined as the maximum in the variance ellipse into the trough or eastward (for moorings on the shelf). If the angle is positive, the pearson correlation coeff is +ve as well and vice versa.\n",
    "\n",
    "Project the velocity components onto a frame rotated by:\n",
    "\n",
    "- s1 : 51 deg clockwise (SE, +ve into trough)\n",
    "\n",
    "- bsr12 : 56 deg clockwise (SE, +ve into trough)\n",
    "- istar1 : 47 deg clockwise (SE, +ve into trough)\n",
    "- bsr13a : 17 deg anti-clockwise (NE, along the shelf break, +ve eastward)\n",
    "- trough_w1: 52 deg clockwose (SE +ve into trough)\n",
    "\n",
    "https://users.cs.utah.edu/~tch/CS6640F2020/resources/How%20to%20draw%20a%20covariance%20error%20ellipse.pdf"
   ]
  },
  {
   "cell_type": "code",
   "execution_count": 3,
   "id": "eb0d7cc3",
   "metadata": {},
   "outputs": [],
   "source": [
    "import numpy as np\n",
    "import matplotlib.pyplot as plt\n",
    "from matplotlib.patches import Ellipse\n",
    "import matplotlib.transforms as transforms\n",
    "\n",
    "import xarray as xr\n",
    "import sys"
   ]
  },
  {
   "cell_type": "code",
   "execution_count": 89,
   "id": "067b6085",
   "metadata": {},
   "outputs": [],
   "source": [
    "#citation: [![DOI](https://zenodo.org/badge/138745361.svg)](https://zenodo.org/badge/latestdoi/138745361)\n",
    "\n",
    "def confidence_ellipse(x, y, ax, n_std=3.0, facecolor='none', **kwargs):\n",
    "    \"\"\"\n",
    "    Create a plot of the covariance confidence ellipse of *x* and *y*.\n",
    "\n",
    "    Parameters\n",
    "    ----------\n",
    "    x, y : array-like, shape (n, )\n",
    "        Input data.\n",
    "\n",
    "    ax : matplotlib.axes.Axes\n",
    "        The axes object to draw the ellipse into.\n",
    "\n",
    "    n_std : float\n",
    "        The number of standard deviations to determine the ellipse's radiuses.\n",
    "\n",
    "    **kwargs\n",
    "        Forwarded to `~matplotlib.patches.Ellipse`\n",
    "\n",
    "    Returns\n",
    "    -------\n",
    "    matplotlib.patches.Ellipse\n",
    "    \"\"\"\n",
    "    if x.size != y.size:\n",
    "        raise ValueError(\"x and y must be the same size\")\n",
    "\n",
    "    cov = np.cov(x, y)\n",
    "    pearson = cov[0, 1]/np.sqrt(cov[0, 0] * cov[1, 1])\n",
    "    # Using a special case to obtain the eigenvalues of this\n",
    "    # two-dimensionl dataset.\n",
    "    ell_radius_x = np.sqrt(1 + pearson)\n",
    "    ell_radius_y = np.sqrt(1 - pearson)\n",
    "    ellipse = Ellipse((0, 0), width=ell_radius_x * 2, height=ell_radius_y * 2,\n",
    "                      facecolor=facecolor, **kwargs)\n",
    "    \n",
    "    eigvals, eigvecs = np.linalg.eigh(cov)\n",
    "    order = eigvals.argsort()[::-1]\n",
    "    eigvals, eigvecs = eigvals[order], eigvecs[:, order]\n",
    "\n",
    "    # The anti-clockwise angle from +ve x dir to rotate our ellipse by \n",
    "    vx, vy = eigvecs[:,0][0], eigvecs[:,0][1]\n",
    "    theta = np.arctan2(vy, vx)\n",
    "    print(\"Angle (degrees) wrt the zonal direction: %.2f\" % np.degrees(theta))\n",
    "    print(\"Pearson corr coeff between x and y: %.3f\" % pearson)\n",
    "    \n",
    "    # angle is between -pi and pi; shift it so it's between 0 and 2pi\n",
    "    if theta < 0:\n",
    "        theta = theta+ 2 * np.pi\n",
    "        \n",
    "    phi = np.degrees(theta)\n",
    "\n",
    "    # Calculating the stdandard deviation of x from\n",
    "    # the squareroot of the variance and multiplying\n",
    "    # with the given number of standard deviations.\n",
    "    scale_x = np.sqrt(cov[0, 0]) * n_std\n",
    "    mean_x = np.mean(x)\n",
    "\n",
    "    # calculating the stdandard deviation of y ...\n",
    "    scale_y = np.sqrt(cov[1, 1]) * n_std\n",
    "    mean_y = np.mean(y)\n",
    "\n",
    "    transf = transforms.Affine2D() \\\n",
    "        .rotate_deg(45) \\\n",
    "        .scale(scale_x, scale_y) \\\n",
    "        .translate(mean_x, mean_y)\n",
    "\n",
    "    ellipse.set_transform(transf + ax.transData)\n",
    "    ax.add_patch(ellipse)\n",
    "    return phi"
   ]
  },
  {
   "cell_type": "code",
   "execution_count": 29,
   "id": "5f29b73f",
   "metadata": {},
   "outputs": [],
   "source": [
    "#-------------------------------------------------------------------\n",
    "# Directories and local functions\n",
    "#-------------------------------------------------------------------\n",
    "voldir = '/Volumes/SamT5/PhD/data/'\n",
    "mdir = voldir + 'moorings/dragomir_phd/'\n",
    "\n",
    "localdir = '/Users/ocd1n16/PhD_local/'\n",
    "\n",
    "auxscriptdir = localdir + 'scripts/aux_func/'\n",
    "sys.path.append(auxscriptdir)\n",
    "import aux_func_trend as fc"
   ]
  },
  {
   "cell_type": "code",
   "execution_count": 30,
   "id": "5404261d",
   "metadata": {},
   "outputs": [],
   "source": [
    "#------------------------------------\n",
    "# limits for mooring data\n",
    "#------------------------------------\n",
    "s1_start = '2010-03-01'\n",
    "s1_end = '2015-12-01'\n",
    "\n",
    "# depth range\n",
    "dep_min_max = [412, 528]"
   ]
  },
  {
   "cell_type": "code",
   "execution_count": 107,
   "id": "d5ea9acb",
   "metadata": {},
   "outputs": [
    {
     "name": "stdout",
     "output_type": "stream",
     "text": [
      "KeysView(<xarray.Dataset>\n",
      "Dimensions:  (time: 51839, depth: 17)\n",
      "Coordinates:\n",
      "  * time     (time) datetime64[ns] 2010-02-15T15:00:00 ... 2016-01-17T03:00:00\n",
      "  * depth    (depth) float64 404.0 412.0 420.0 428.0 ... 508.0 516.0 524.0 532.0\n",
      "Data variables:\n",
      "    u        (time, depth) float64 ...\n",
      "    v        (time, depth) float64 ...\n",
      "Attributes:\n",
      "    lon:      -116.358\n",
      "    lat:      -72.468)\n"
     ]
    }
   ],
   "source": [
    "# S1 mooring data - zonal and meridional velocities\n",
    "mfile = 's1_raw_uv_hourly_adcp_404m_532m_2010_2016.nc'\n",
    "\n",
    "with xr.open_dataset(mdir + mfile) as s1moor:\n",
    "    print(s1moor.keys())\n",
    "\n",
    "# average data with depth\n",
    "s1 = s1moor.sel(depth=slice(dep_min_max[0], dep_min_max[1])).mean(\"depth\")\n",
    "\n",
    "# average monthly and use only fully sampled months\n",
    "# convert to cm/s to match the Central Trough\n",
    "ms1 = s1.resample(time='1MS').mean()*1e2\n",
    "ms1 = ms1.sel(time=slice(s1_start, s1_end))"
   ]
  },
  {
   "cell_type": "code",
   "execution_count": 32,
   "id": "1627c1e8",
   "metadata": {},
   "outputs": [],
   "source": [
    "#------------------------------------------------------------------\n",
    "#            ~ ~ ~    OTHER MOORINGS     ~ ~ ~   \n",
    "#------------------------------------------------------------------\n",
    "bsr12_0 = xr.open_dataset(mdir + 'bsr12_0.nc')\n",
    "bsr12_1 = xr.open_dataset(mdir + 'bsr12_1.nc')\n",
    "\n",
    "bsr13a = xr.open_dataset(mdir + 'bsr13a.nc')\n",
    "\n",
    "istar1 = xr.open_dataset(mdir + 'istar1.nc')\n",
    "\n",
    "troughW0 = xr.open_dataset(mdir + 'troughW0.nc')\n",
    "troughW1 = xr.open_dataset(mdir + 'troughW1.nc')"
   ]
  },
  {
   "cell_type": "code",
   "execution_count": 128,
   "id": "eb18b52d",
   "metadata": {},
   "outputs": [],
   "source": [
    "def cov_ellipse_plot(moor, scale):\n",
    "    # remove time mean and standardize\n",
    "    anom = moor - moor.mean(\"time\")\n",
    "    x, y = anom.u.values, anom.v.values\n",
    "\n",
    "    fig, ax = plt.subplots()\n",
    "    ax.scatter(x, y, c='k')\n",
    "    theta = confidence_ellipse(x, y, ax, n_std=3., edgecolor='red')\n",
    "\n",
    "    xo, yo = 0, 0\n",
    "    origin = np.asarray([xo, yo])\n",
    "    plt.quiver(*origin, moor.u.mean(), moor.v.mean(), color='c', scale=scale)\n",
    "    ax.axhline(yo, ls=':', c='grey')\n",
    "    ax.axvline(xo, ls=':', c='grey')\n",
    "    ax.set_aspect('equal')\n",
    "    \n",
    "    return theta"
   ]
  },
  {
   "cell_type": "markdown",
   "id": "e0ba69ff",
   "metadata": {},
   "source": [
    "### S1 - Dtoson Trough"
   ]
  },
  {
   "cell_type": "code",
   "execution_count": 129,
   "id": "7a4e13f1",
   "metadata": {},
   "outputs": [
    {
     "name": "stdout",
     "output_type": "stream",
     "text": [
      "Angle (degrees) wrt the zonal direction: 129.49\n",
      "Pearson corr coeff between x and y: -0.557\n",
      "Clockwise angle: 50.5\n"
     ]
    },
    {
     "data": {
      "image/png": "[encoded data removed]",
      "text/plain": [
       "<Figure size 432x288 with 1 Axes>"
      ]
     },
     "metadata": {
      "needs_background": "light"
     },
     "output_type": "display_data"
    }
   ],
   "source": [
    "# max in the variance ellipse: 51 deg clockwise (+ve into the trough)\n",
    "theta = cov_ellipse_plot(ms1, scale=3)\n",
    "\n",
    "print(\"Clockwise angle: %.1f\" % (180-theta))"
   ]
  },
  {
   "cell_type": "markdown",
   "id": "2416dcfe",
   "metadata": {},
   "source": [
    "### Central Trough"
   ]
  },
  {
   "cell_type": "markdown",
   "id": "d31ab388",
   "metadata": {},
   "source": [
    "#### bsr12 (deeper level)"
   ]
  },
  {
   "cell_type": "code",
   "execution_count": 115,
   "id": "2801632b",
   "metadata": {},
   "outputs": [
    {
     "name": "stdout",
     "output_type": "stream",
     "text": [
      "Angle (degrees) wrt the zonal direction: 123.64\n",
      "Pearson corr coeff between x and y: -0.916\n",
      "Clockwise angle: 56.4\n"
     ]
    },
    {
     "data": {
      "image/png": "[encoded data removed]",
      "text/plain": [
       "<Figure size 432x288 with 1 Axes>"
      ]
     },
     "metadata": {
      "needs_background": "light"
     },
     "output_type": "display_data"
    }
   ],
   "source": [
    "# max in the variance ellipse: 56 deg clockwise (+ve into the trough)\n",
    "theta = cov_ellipse_plot(bsr12_1, scale=10)\n",
    "\n",
    "print(\"Clockwise angle: %.1f\" % (180-theta))"
   ]
  },
  {
   "cell_type": "markdown",
   "id": "6d17ed36",
   "metadata": {},
   "source": [
    "#### bsr13"
   ]
  },
  {
   "cell_type": "code",
   "execution_count": 112,
   "id": "ad34cbbf",
   "metadata": {},
   "outputs": [
    {
     "name": "stdout",
     "output_type": "stream",
     "text": [
      "Angle (degrees) wrt the zonal direction: -163.06\n",
      "Pearson corr coeff between x and y: 0.421\n",
      "Anti-clockwise angle: 16.9\n"
     ]
    },
    {
     "data": {
      "image/png": "[encoded data removed]",
      "text/plain": [
       "<Figure size 432x288 with 1 Axes>"
      ]
     },
     "metadata": {
      "needs_background": "light"
     },
     "output_type": "display_data"
    }
   ],
   "source": [
    "# max in the variance ellipse: 17 deg anti-clockwise (+ve eastward)\n",
    "theta = cov_ellipse_plot(bsr13a, scale=10)\n",
    "\n",
    "print(\"Anti-clockwise angle: %.1f\" % (theta-180))"
   ]
  },
  {
   "cell_type": "markdown",
   "id": "46d7874d",
   "metadata": {},
   "source": [
    "#### istar1"
   ]
  },
  {
   "cell_type": "code",
   "execution_count": 114,
   "id": "571e212e",
   "metadata": {},
   "outputs": [
    {
     "name": "stdout",
     "output_type": "stream",
     "text": [
      "Angle (degrees) wrt the zonal direction: 133.54\n",
      "Pearson corr coeff between x and y: -0.923\n",
      "Clockwise angle: 46.5\n"
     ]
    },
    {
     "data": {
      "image/png": "[encoded data removed]",
      "text/plain": [
       "<Figure size 432x288 with 1 Axes>"
      ]
     },
     "metadata": {
      "needs_background": "light"
     },
     "output_type": "display_data"
    }
   ],
   "source": [
    "# max in the variance ellipse: 47 deg clockwise (+ve into the trough)\n",
    "theta = cov_ellipse_plot(istar1, scale=15)\n",
    "\n",
    "print(\"Clockwise angle: %.1f\" % (180-theta))"
   ]
  },
  {
   "cell_type": "markdown",
   "id": "15402ba1",
   "metadata": {},
   "source": [
    "#### trough W (deeper level)"
   ]
  },
  {
   "cell_type": "code",
   "execution_count": 113,
   "id": "697cbf91",
   "metadata": {},
   "outputs": [
    {
     "name": "stdout",
     "output_type": "stream",
     "text": [
      "Angle (degrees) wrt the zonal direction: 128.18\n",
      "Pearson corr coeff between x and y: -0.946\n",
      "Clockwise angle: 51.8\n"
     ]
    },
    {
     "data": {
      "image/png": "[encoded data removed]",
      "text/plain": [
       "<Figure size 432x288 with 1 Axes>"
      ]
     },
     "metadata": {
      "needs_background": "light"
     },
     "output_type": "display_data"
    }
   ],
   "source": [
    "# max in the variance ellipse: 52 deg clockwise (+ve into the trough)\n",
    "theta = cov_ellipse_plot(troughW1, scale=10)\n",
    "\n",
    "print(\"Clockwise angle: %.1f\" % (180-theta))"
   ]
  }
 ],
 "metadata": {
  "kernelspec": {
   "display_name": "Python 3",
   "language": "python",
   "name": "python3"
  },
  "language_info": {
   "codemirror_mode": {
    "name": "ipython",
    "version": 3
   },
   "file_extension": ".py",
   "mimetype": "text/x-python",
   "name": "python",
   "nbconvert_exporter": "python",
   "pygments_lexer": "ipython3",
   "version": "3.9.4"
  }
 },
 "nbformat": 4,
 "nbformat_minor": 5
}
