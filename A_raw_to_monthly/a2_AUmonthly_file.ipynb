{
 "cells": [
  {
   "cell_type": "markdown",
   "id": "c1261714",
   "metadata": {},
   "source": [
    "Create files with monthly time series of mooring data in the Central and Dotson trough"
   ]
  },
  {
   "cell_type": "code",
   "execution_count": 1,
   "id": "eef9914c",
   "metadata": {},
   "outputs": [],
   "source": [
    "import numpy as np\n",
    "from numpy import ma\n",
    "\n",
    "import xarray as xr\n",
    "import pandas as pd\n",
    "from scipy.stats import pearsonr\n",
    "\n",
    "import matplotlib.pyplot as plt\n",
    "from matplotlib.pyplot import cm\n",
    "import matplotlib.dates as mdates\n",
    "import matplotlib as mpl\n",
    "\n",
    "import sys\n",
    "import gsw"
   ]
  },
  {
   "cell_type": "code",
   "execution_count": 2,
   "id": "62a41f1b",
   "metadata": {},
   "outputs": [],
   "source": [
    "#-------------------------------------------------------------------\n",
    "# Directories\n",
    "#-------------------------------------------------------------------\n",
    "voldir = '/Volumes/SamT5/PhD/data/'\n",
    "mdir = voldir + 'moorings/dragomir_phd/'\n",
    "\n",
    "localdir = '/Users/ocd1n16/PhD_git/'\n",
    "\n",
    "auxscriptdir = localdir + 'aux_func/'\n",
    "sys.path.append(auxscriptdir)\n",
    "import aux_func_trend as fc"
   ]
  },
  {
   "cell_type": "code",
   "execution_count": 3,
   "id": "1d54315d",
   "metadata": {},
   "outputs": [],
   "source": [
    "# time end points\n",
    "s1_start = '2011-01-01'\n",
    "s1_end = '2015-12-31'\n",
    "\n",
    "ct_start = '2011-01-01'\n",
    "ct_end = '2015-12-31'\n",
    "\n",
    "# time/seasonal means: crop to integer number of years\n",
    "# make sure the time mean period is inside the range of the time series\n",
    "s1_tmean_start, s1_tmean_end = '2011-01-01', '2015-12-01'\n",
    "ct_tmean_start, ct_tmean_end = '2011-01-01', '2015-12-01'"
   ]
  },
  {
   "cell_type": "markdown",
   "id": "454be858",
   "metadata": {},
   "source": [
    "### DT"
   ]
  },
  {
   "cell_type": "code",
   "execution_count": 13,
   "id": "6528745c",
   "metadata": {},
   "outputs": [
    {
     "name": "stdout",
     "output_type": "stream",
     "text": [
      "KeysView(<xarray.Dataset>\n",
      "Dimensions:  (time: 51839, depth: 18)\n",
      "Coordinates:\n",
      "  * time     (time) datetime64[ns] 2010-02-15T15:00:00 ... 2016-01-17T03:00:00\n",
      "  * depth    (depth) float64 404.0 412.0 420.0 428.0 ... 516.0 524.0 532.0 540.0\n",
      "Data variables:\n",
      "    u        (time, depth) float64 ...\n",
      "    v        (time, depth) float64 ...\n",
      "Attributes:\n",
      "    lon:      -116.358\n",
      "    lat:      -72.468)\n"
     ]
    }
   ],
   "source": [
    "# S1 mooring data file\n",
    "# 8 m grid\n",
    "mfile = 's1_raw_uv_hourly_adcp_404m_540m_2010_2016.nc'\n",
    "\n",
    "# depth range\n",
    "dep_min_max = [412, 528]\n",
    "\n",
    "with xr.open_dataset(mdir + mfile) as s1moor:\n",
    "    print(s1moor.keys())\n",
    "\n",
    "s1 = s1moor.sel(depth=slice(dep_min_max[0], dep_min_max[1]))\n",
    "\n",
    "# average data daily\n",
    "s1d = s1.resample(time=\"1D\").mean()\n",
    "\n",
    "# projection on rotated reference frame\n",
    "tim, dep = s1d.u.shape\n",
    "rot_u, rot_v = [np.ones((tim, dep)) for _ in range(2)]\n",
    "\n",
    "for i in range(dep):\n",
    "    rot_vel = fc.rotate_frame(s1d.u.isel(depth=i), s1d.v.isel(depth=i), 51, 'clockwise')\n",
    "    rot_u[:, i] = rot_vel.u.values\n",
    "    rot_v[:, i] = rot_vel.v.values\n",
    "    \n",
    "# add new components to existing dataset\n",
    "s1d[\"u_rot\"] = ((\"time\", 'depth'), rot_u)\n",
    "s1d[\"v_rot\"] = ((\"time\", \"depth\"), rot_v)\n",
    "\n",
    "# average with depth + change units to cm/s to match CT\n",
    "ts1d = s1d.mean(\"depth\") * 1e2"
   ]
  },
  {
   "cell_type": "code",
   "execution_count": 14,
   "id": "d004a3b3",
   "metadata": {},
   "outputs": [
    {
     "name": "stdout",
     "output_type": "stream",
     "text": [
      "Variable: Monthly depth averaged velocity anomaly wrt the time mean\n",
      "\n",
      "Time mean: 0.9486501519145146 cm/s\n",
      "Time mean computed between: 2011-01-01 and 2015-12-01\n",
      "\n",
      "Length of time series: 2011-01-01 to 2015-12-31\n",
      "\n",
      "Linear trend: -3.4989860325502358 mm/s per year\n",
      "CI: 3.060750699862925 mm/s per year \n",
      "p-val: 0.025832295216441113 \n",
      "\n"
     ]
    }
   ],
   "source": [
    "# monthly averages\n",
    "mts1 = ts1d.resample(time=\"1MS\").mean()\n",
    "\n",
    "# crop anomalies to a new period\n",
    "mts1 = mts1.sel(time=slice(s1_start, s1_end))\n",
    "\n",
    "# time and seasonal mean\n",
    "mts1_mean_crop = mts1.sel(time=slice(s1_tmean_start, s1_tmean_end))\n",
    "mts1_timemean = mts1_mean_crop.mean(\"time\")\n",
    "mts1_meanseas = mts1_mean_crop.groupby(\"time.month\").mean()\n",
    "mts1_std = mts1_mean_crop.groupby(\"time.month\").std(ddof=1)\n",
    "\n",
    "# monthly time mean anomalies\n",
    "mts1_anom = mts1 - mts1_timemean\n",
    "mts1_mclim = mts1.groupby(\"time.month\") - mts1_meanseas\n",
    "\n",
    "#remove linear trend\n",
    "us1_trend, us1_det = fc.trend_ci(mts1_anom.u_rot, 0.95)\n",
    "_, us1_mclim_det = fc.trend_ci(mts1_mclim.u_rot, 0.95)\n",
    "\n",
    "print(\"Variable: Monthly depth averaged velocity anomaly wrt the time mean\")\n",
    "\n",
    "print(\"\\nTime mean: %s cm/s\" % str(mts1_timemean.u.values))\n",
    "print(\"Time mean computed between: \" + s1_tmean_start + \" and \" + s1_tmean_end)\n",
    "\n",
    "print(\"\\nLength of time series: \" + s1_start + \" to \" + s1_end)\n",
    "\n",
    "print(\"\\nLinear trend: %s mm/s per year\" %(us1_trend.slope.values*10*365))\n",
    "print(\"CI: %s mm/s per year \" %(us1_trend.ci.values*10*365))\n",
    "print(\"p-val: %s \\n\" %(us1_trend.p_val.values))\n",
    "\n",
    "# standardise time series\n",
    "us1_det_stand = us1_det / us1_det.std(ddof=1)\n",
    "us1_mclim_det_stand = us1_mclim_det / us1_mclim_det.std(ddof=1)"
   ]
  },
  {
   "cell_type": "markdown",
   "id": "6bb273ed",
   "metadata": {},
   "source": [
    "### CT"
   ]
  },
  {
   "cell_type": "code",
   "execution_count": 4,
   "id": "2b0fcd1f",
   "metadata": {},
   "outputs": [],
   "source": [
    "#------------------------------------------------------------------\n",
    "#            ~ ~ ~    OTHER MOORINGS     ~ ~ ~   \n",
    "#------------------------------------------------------------------\n",
    "# hourly\n",
    "#bsr12_0 = xr.open_dataset(mdir_pd + 'bsr12_0_raw.nc') # 400 m\n",
    "bsr12_1 = xr.open_dataset(mdir + 'bsr12_1_raw.nc') # 553 m\n",
    "bsr13 = xr.open_dataset(mdir + 'bsr13a_raw.nc') # 338 m\n",
    "\n",
    "istar1 = xr.open_dataset(mdir + 'istar1_raw.nc') # 581 m\n",
    "\n",
    "troughW0 = xr.open_dataset(mdir + 'troughW0_raw.nc') # 423 m\n",
    "troughW1 = xr.open_dataset(mdir + 'troughW1_raw.nc') # 555 m\n",
    "\n",
    "troughE0 = xr.open_dataset(mdir + 'troughE0_raw.nc') # 467 m\n",
    "troughE1 = xr.open_dataset(mdir + 'troughE1_raw.nc') # 595 m\n",
    "\n",
    "# daily means\n",
    "bsr12_d = bsr12_1.resample(time='1D').mean()\n",
    "bsr13_d = bsr13.resample(time='1D').mean()\n",
    "istar1_d = istar1.resample(time='1D').mean()\n",
    "troughW1_d = troughW1.resample(time='1D').mean()\n",
    "troughE1_d = troughE1.resample(time='1D').mean()\n",
    "\n",
    "# vel components projected onto rotated frame; daily averages\n",
    "bsr12_rot = fc.rotate_frame(bsr12_d.u, bsr12_d.v, 56, 'clockwise')\n",
    "bsr13_rot = fc.rotate_frame(bsr13_d.u, bsr13_d.v, 17, 'anticlockwise')\n",
    "istar1_rot = fc.rotate_frame(istar1_d.u, istar1_d.v, 47, 'clockwise')\n",
    "troughW1_rot = fc.rotate_frame(troughW1_d.u, troughW1_d.v, 52, 'clockwise')\n",
    "#troughE1_rot = fc.rotate_frame(troughE1_d.u, troughE1_d.v, 26, 'clockwise')"
   ]
  },
  {
   "cell_type": "code",
   "execution_count": null,
   "id": "a7204dfc",
   "metadata": {},
   "outputs": [],
   "source": [
    "# Distance in metres between the moorings in the central trough\n",
    "dist1 = gsw.distance([istar1.lon.values, troughW1.lon.values], \n",
    "             [istar1.lat.values, troughW0.lat.values])\n",
    "\n",
    "dist2 = gsw.distance([istar1.lon.values, bsr12_1.lon.values], \n",
    "             [istar1.lat.values, bsr12_1.lat.values])\n",
    "\n",
    "dist3 = gsw.distance([istar1.lon.values, bsr13.lon.values], \n",
    "             [istar1.lat.values, bsr13.lat.values])\n",
    "\n",
    "print(\"Distance between istar1 and trough W: %s m\" % dist1)\n",
    "print(\"Distance between istar1 and bsr12: %s m\" % dist2)\n",
    "print(\"Distance between istar1 and bsr13a: %s m\" % dist3)"
   ]
  },
  {
   "cell_type": "markdown",
   "id": "eae2119d",
   "metadata": {},
   "source": [
    "### Merge the moorings in CT after removing the time mean from every mooring"
   ]
  },
  {
   "cell_type": "code",
   "execution_count": 16,
   "id": "262ab83c",
   "metadata": {},
   "outputs": [],
   "source": [
    "def get_anom(moor):\n",
    "    anom = moor - moor.mean(\"time\")\n",
    "    return anom"
   ]
  },
  {
   "cell_type": "code",
   "execution_count": 17,
   "id": "f628e53d",
   "metadata": {},
   "outputs": [],
   "source": [
    "bsr12_anom = get_anom(bsr12_rot.u)\n",
    "bsr13_anom = get_anom(bsr13_rot.u)\n",
    "istar1_anom = get_anom(istar1_rot.u)\n",
    "tw1_anom = get_anom(troughW1_rot.u)\n",
    "\n",
    "# concatenate moorings in the PITW/central trough\n",
    "# subtract the time mean of every moooring before merging them \n",
    "ctd0 = xr.concat([bsr12_anom,\n",
    "                  bsr13_anom,\n",
    "                  istar1_anom,\n",
    "                  tw1_anom], dim='time')\n",
    "\n",
    "# resample daily and then monthly\n",
    "ctd = ctd0.resample(time='1D').mean()"
   ]
  },
  {
   "cell_type": "markdown",
   "id": "dcb1cf14",
   "metadata": {},
   "source": [
    "### File with daily data of merged CT product"
   ]
  },
  {
   "cell_type": "code",
   "execution_count": 20,
   "id": "4232f8f1",
   "metadata": {},
   "outputs": [],
   "source": [
    "ctd.attrs[\"units\"] = \"cm/s\"\n",
    "ctd.attrs['description'] = \"Daily time means of velocity components at CT.\"\n",
    "ctd.to_netcdf(mdir + \"daily_ct_uv.nc\")"
   ]
  },
  {
   "cell_type": "markdown",
   "id": "9ed3d755",
   "metadata": {},
   "source": [
    "#### monthly product"
   ]
  },
  {
   "cell_type": "code",
   "execution_count": 18,
   "id": "dcce41d3",
   "metadata": {},
   "outputs": [],
   "source": [
    "# monthly resampling\n",
    "ctm = ctd.resample(time='1MS').mean()"
   ]
  },
  {
   "cell_type": "code",
   "execution_count": 21,
   "id": "eb4ba664",
   "metadata": {},
   "outputs": [],
   "source": [
    "ctm.to_netcdf(mdir + \"monthly_ct_uv.nc\")"
   ]
  },
  {
   "cell_type": "code",
   "execution_count": 19,
   "id": "31502ece",
   "metadata": {},
   "outputs": [
    {
     "name": "stdout",
     "output_type": "stream",
     "text": [
      "Time mean of anomalies computed between: 2011-01-01 and 2015-12-01\n",
      "daily average: -0.1516713 cm/s\n",
      "monthly average: -0.0854489 cm/s\n",
      "\n",
      "Length of time series: 2011-01-01 to 2015-12-31\n",
      "\n",
      "Linear trend: 0.8847598986334414 mm/s per year\n",
      "CI: 4.780883754399861 mm/s per year \n",
      "p-val: 0.7125017743773789 \n",
      "\n"
     ]
    }
   ],
   "source": [
    "# crop to the length of S1\n",
    "ctm = ctm.sel(time=slice(s1_start, s1_end))\n",
    "\n",
    "#--- ----- ----- check if there is any time mean\n",
    "# crop time series to integer number of years\n",
    "ctd_timemean_crop = ctd.sel(time=slice(ct_tmean_start, ct_tmean_end))\n",
    "ctm_timemean_crop = ctm.sel(time=slice(ct_tmean_start, ct_tmean_end))\n",
    "\n",
    "# time mean (time mean of individual moorings is already removed)\n",
    "ctd_timemean = ctd_timemean_crop.mean(\"time\")\n",
    "ctm_timemean = ctm_timemean_crop.mean(\"time\")\n",
    "\n",
    "# mean seasonal cycle\n",
    "ctd_meanseas = ctd_timemean_crop.groupby(\"time.month\").mean()\n",
    "ctm_meanseas = ctm_timemean_crop.groupby(\"time.month\").mean()\n",
    "ctm_std = ctm_timemean_crop.groupby(\"time.month\").std(ddof=1)\n",
    "\n",
    "print(\"Time mean of anomalies computed between: \" + ct_tmean_start + \" and \" + ct_tmean_end)\n",
    "print(\"daily average: %.7f cm/s\" % ctd_timemean)\n",
    "print(\"monthly average: %.7f cm/s\" % ctm_timemean)\n",
    "\n",
    "# monthly time mean anomalies\n",
    "ctm_anom = ctm - ctm_timemean\n",
    "ctm_mclim = ctm.groupby(\"time.month\") - ctm_meanseas\n",
    "\n",
    "#remove linear trend\n",
    "ctm_trend, ctm_det = fc.trend_ci(ctm_anom, 0.95)\n",
    "_, ctm_mclim_det = fc.trend_ci(ctm_mclim, 0.95)\n",
    "\n",
    "print(\"\\nLength of time series: \" + ct_start + \" to \" + ct_end)\n",
    "\n",
    "print(\"\\nLinear trend: %s mm/s per year\" %(ctm_trend.slope.values*10*365.25))\n",
    "print(\"CI: %s mm/s per year \" %(ctm_trend.ci.values*10*365.25))\n",
    "print(\"p-val: %s \\n\" %(ctm_trend.p_val.values))\n",
    "\n",
    "# standardise time series\n",
    "ctm_det_stand = ctm_det / ctm_det.std(ddof=1)\n",
    "ctm_mclim_det_stand = ctm_mclim_det / ctm_mclim_det.std(ddof=1)"
   ]
  },
  {
   "cell_type": "code",
   "execution_count": 20,
   "id": "c2b477a9",
   "metadata": {},
   "outputs": [],
   "source": [
    "au = xr.Dataset({\"dt\" : (\"time\", mts1.u_rot.values), \n",
    "               \"dt_anom\" : (\"time\", mts1_anom.u_rot.values),\n",
    "               \"dt_anom_det\" : (\"time\", us1_det.values),\n",
    "                \"dt_anom_det_stand\" : (\"time\", us1_det_stand.values),\n",
    "               \"ct\" : (\"time\", ctm.values),\n",
    "               \"ct_anom\" : (\"time\", ctm_anom.values),\n",
    "               \"ct_anom_det\" : (\"time\", ctm_det.values),\n",
    "                \"ct_anom_det_stand\" : (\"time\", ctm_det_stand.values)},\n",
    "               coords = {\"time\" : mts1.time.values})\n",
    "au.dt[\"long_name\"] = \"Dotson Trough\"\n",
    "au.ct[\"long_name\"] = \"Central Trough\"\n",
    "au.attrs[\"units\"] = \"cm/s\"\n",
    "\n",
    "au.to_netcdf(mdir + \"amundsen_undercurrent_monthly_2011jan_2015dec.nc\")"
   ]
  },
  {
   "cell_type": "code",
   "execution_count": null,
   "id": "efc73e5e",
   "metadata": {},
   "outputs": [],
   "source": []
  }
 ],
 "metadata": {
  "kernelspec": {
   "display_name": "Python 3",
   "language": "python",
   "name": "python3"
  },
  "language_info": {
   "codemirror_mode": {
    "name": "ipython",
    "version": 3
   },
   "file_extension": ".py",
   "mimetype": "text/x-python",
   "name": "python",
   "nbconvert_exporter": "python",
   "pygments_lexer": "ipython3",
   "version": "3.9.4"
  }
 },
 "nbformat": 4,
 "nbformat_minor": 5
}
