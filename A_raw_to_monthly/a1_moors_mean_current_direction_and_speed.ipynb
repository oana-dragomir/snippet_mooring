{
 "cells": [
  {
   "cell_type": "code",
   "execution_count": 1,
   "id": "d07e4daf",
   "metadata": {},
   "outputs": [],
   "source": [
    "# Import modules\n",
    "import numpy as np\n",
    "import xarray as xr\n",
    "import pandas as pd\n",
    "import matplotlib.pyplot as plt\n",
    "\n",
    "import sys"
   ]
  },
  {
   "cell_type": "code",
   "execution_count": 4,
   "id": "3a584712",
   "metadata": {},
   "outputs": [],
   "source": [
    "#-------------------------------------------------------------------\n",
    "# Directories and local functions\n",
    "#-------------------------------------------------------------------\n",
    "voldir = '/Volumes/SamT5/PhD/data/'\n",
    "mdir = voldir + 'moorings/dragomir_phd/'\n",
    "topodir = voldir + 'topog/'\n",
    "\n",
    "localdir = '/Users/ocd1n16/PhD_local/'\n",
    "\n",
    "auxscriptdir = localdir + 'scripts/aux_func/'\n",
    "sys.path.append(auxscriptdir)\n",
    "import aux_func_trend as fc\n"
   ]
  },
  {
   "cell_type": "markdown",
   "id": "9cd70864",
   "metadata": {},
   "source": [
    "def unit_vector(vector):\n",
    "    \"\"\" Returns the unit vector of the vector.\"\"\"\n",
    "    return vector / np.linalg.norm(vector)\n",
    "\n",
    "def angle_between(v1, v2):\n",
    "    \"\"\"Finds angle between two vectors\"\"\"\n",
    "    v1_u = unit_vector(v1)\n",
    "    v2_u = unit_vector(v2)\n",
    "    return np.arccos(np.clip(np.dot(v1_u, v2_u), -1.0, 1.0))\n",
    "\n",
    "A = np.array([ 0 , -1])\n",
    "\n",
    "theta = np.radians(90)\n",
    "c, s = np.cos(theta), np.sin(theta)\n",
    "R = np.array(((c,-s), (s, c)))\n",
    "\n",
    "A = np.dot(R, A)"
   ]
  },
  {
   "cell_type": "code",
   "execution_count": 3,
   "id": "1e367631",
   "metadata": {},
   "outputs": [
    {
     "name": "stdout",
     "output_type": "stream",
     "text": [
      "KeysView(<xarray.Dataset>\n",
      "Dimensions:  (time: 51839, depth: 17)\n",
      "Coordinates:\n",
      "  * time     (time) datetime64[ns] 2010-02-15T15:00:00 ... 2016-01-17T03:00:00\n",
      "  * depth    (depth) float64 404.0 412.0 420.0 428.0 ... 508.0 516.0 524.0 532.0\n",
      "Data variables:\n",
      "    u        (time, depth) float64 ...\n",
      "    v        (time, depth) float64 ...\n",
      "Attributes:\n",
      "    lon:      -116.358\n",
      "    lat:      -72.468)\n"
     ]
    }
   ],
   "source": [
    "#------------------------------------\n",
    "# limits for mooring data\n",
    "#------------------------------------\n",
    "moor_start = '2010-03-01'\n",
    "moor_end = '2015-12-01'\n",
    "\n",
    "# S1 mooring data\n",
    "mfile = 's1_raw_uv_hourly_adcp_404m_532m_2010_2016.nc'\n",
    "\n",
    "with xr.open_dataset(mdir_dt + mfile) as s1moor:\n",
    "    print(s1moor.keys())\n",
    "    \n",
    "s1_avg = s1moor.mean('depth').sel(time=slice(moor_start, moor_end))\n",
    "\n",
    "# projection in rotated frame\n",
    "s1_rot = fc.rotate_frame(s1_avg.u, s1_avg.v, 42, 'clockwise')\n",
    "\n",
    "# average monthly\n",
    "ms1 = s1_rot.resample(time='1MS').mean()\n",
    "\n",
    "ms1_mdt = ms1.sel(time=slice('2011-01-01', '2015-12-31')).mean(\"time\")\n",
    "ms1_clim = ms1.sel(time=slice('2011-01-01', '2015-12-31')).groupby(\"time.month\").mean()\n",
    "\n",
    "ms1_anom = ms1 - ms1_mdt\n",
    "ms1_mclim = ms1.groupby(\"time.month\") - ms1_clim"
   ]
  },
  {
   "cell_type": "code",
   "execution_count": null,
   "id": "5a79802d",
   "metadata": {},
   "outputs": [],
   "source": []
  },
  {
   "cell_type": "code",
   "execution_count": 5,
   "id": "e59934f3",
   "metadata": {},
   "outputs": [],
   "source": [
    "#------------------------------------------------------------------\n",
    "#            ~ ~ ~    OTHER MOORINGS     ~ ~ ~   \n",
    "#------------------------------------------------------------------\n",
    "bsr14 = xr.open_dataset(mdir + 'bsr14.nc') #388\n",
    "\n",
    "bsr12_0 = xr.open_dataset(mdir + 'bsr12_0.nc') #depth: 400\n",
    "bsr12_1 = xr.open_dataset(mdir + 'bsr12_1.nc') #depth: 553\n",
    "\n",
    "bsr13a = xr.open_dataset(mdir + 'bsr13a.nc') #338\n",
    "\n",
    "istar1 = xr.open_dataset(mdir + 'istar1.nc') # 581\n",
    "istar4 = xr.open_dataset(mdir + 'istar4.nc') #485\n",
    "\n",
    "istar5_0 = xr.open_dataset(mdir + 'istar5_0.nc')\n",
    "istar5_1 = xr.open_dataset(mdir + 'istar5_1.nc')\n",
    "istar5_2 = xr.open_dataset(mdir + 'istar5_2.nc')\n",
    "\n",
    "troughW0 = xr.open_dataset(mdir + 'troughW0.nc') # 423\n",
    "troughW1 = xr.open_dataset(mdir + 'troughW1.nc') # 555\n",
    "\n",
    "troughE0 = xr.open_dataset(mdir + 'troughE0.nc') # 555 \n",
    "troughE1 = xr.open_dataset(mdir + 'troughE1.nc') # 595"
   ]
  },
  {
   "cell_type": "markdown",
   "id": "a3e1634b",
   "metadata": {},
   "source": [
    "## mean current direction"
   ]
  },
  {
   "cell_type": "code",
   "execution_count": 15,
   "id": "a7ced6a3",
   "metadata": {},
   "outputs": [
    {
     "data": {
      "image/png": "[encoded data removed]",
      "text/plain": [
       "<Figure size 504x504 with 1 Axes>"
      ]
     },
     "metadata": {
      "needs_background": "light"
     },
     "output_type": "display_data"
    }
   ],
   "source": [
    "fig, ax = plt.subplots(figsize=(7,7))\n",
    "ax.quiver(troughW0.u.mean('time').values, \n",
    "          troughW0.v.mean('time').values,\n",
    "          color='y', scale=21, label='trough_w0 423m')\n",
    "ax.quiver(troughW1.u.mean('time').values, \n",
    "          troughW1.v.mean('time').values,\n",
    "          color='darkorange', scale=21, label='trough_w1 555m')\n",
    "ax.quiver(bsr12_0.u.mean('time').values, \n",
    "          bsr12_0.v.mean('time').values,\n",
    "          color='skyblue', scale=21, label='bsr12, 400m')\n",
    "ax.quiver(bsr12_1.u.mean('time').values,\n",
    "          bsr12_1.v.mean('time').values,\n",
    "          color='royalblue', scale=21, label='bsr12, 553m')\n",
    "ax.quiver(istar1.u.mean('time').values, \n",
    "          istar1.v.mean('time').values,\n",
    "          color='plum', scale=21, label='istar1 581m')\n",
    "ax.quiver(ms1.u.mean('time').values*1e2, \n",
    "          ms1.v.mean('time').values*1e2,\n",
    "          color='k', scale=21, label='s1')\n",
    "ax.quiver(bsr13a.u.mean('time').values, \n",
    "          bsr13a.v.mean('time').values,\n",
    "          color='r', scale=21, label='bsr13')\n",
    "ax.quiver(bsr14.u.mean('time').values, \n",
    "          bsr14.v.mean('time').values,\n",
    "          color='grey', scale=21, label='bsr14')\n",
    "ax.quiver(istar4.u.mean('time').values, \n",
    "          istar4.v.mean('time').values,\n",
    "          color='b', scale=21, label='istar4')\n",
    "ax.axhline(0, ls=':')\n",
    "ax.axvline(0, ls=':')\n",
    "ax.legend(bbox_to_anchor=(1, 1))\n",
    "ax.set_aspect('equal')"
   ]
  },
  {
   "cell_type": "markdown",
   "id": "3c62ae20",
   "metadata": {},
   "source": [
    "## mean current speed"
   ]
  },
  {
   "cell_type": "code",
   "execution_count": 16,
   "id": "741ac40b",
   "metadata": {},
   "outputs": [
    {
     "name": "stdout",
     "output_type": "stream",
     "text": [
      ">> bsr14\n",
      "mean_u:  -4.522767348594876\n",
      "mean_v:  -2.298866164642029\n",
      "mean_speed:  5.258111517654728\n",
      "\n",
      ">> bsr12_1\n",
      "mean_u:  2.981183227435433\n",
      "mean_v:  -4.344480048037639\n",
      "mean_speed:  5.29387532873893\n",
      "\n",
      ">> bsr13a\n",
      "mean_u:  2.0537845328254805\n",
      "mean_v:  0.9345901142815602\n",
      "mean_speed:  2.5552838827814646\n",
      "\n",
      ">> istar1\n",
      "mean_u:  3.679055733350433\n",
      "mean_v:  -3.810070102813422\n",
      "mean_speed:  5.314848738591906\n",
      "\n",
      ">> istar4\n",
      "mean_u:  -0.5440729681281491\n",
      "mean_v:  1.5562701555792764\n",
      "mean_speed:  1.8653165005026309\n",
      "\n",
      ">> istar5_1\n",
      "mean_u:  3.8347134928829196\n",
      "mean_v:  -0.4885986373458017\n",
      "mean_speed:  4.4475858107202235\n",
      "\n",
      ">> troughW_0\n",
      "mean_u:  3.038236069944917\n",
      "mean_v:  -4.782173944793849\n",
      "mean_speed:  5.703780253823436\n",
      "\n",
      ">> troughE_0\n",
      "mean_u:  7.939112907279512\n",
      "mean_v:  -6.274679475006093\n",
      "mean_speed:  10.392023479434135\n"
     ]
    }
   ],
   "source": [
    "def moor_speed(moor):\n",
    "    print(\"mean_u: \", moor.u.values.mean())\n",
    "    print(\"mean_v: \", moor.v.values.mean())\n",
    "    print(\"mean_speed: \", np.mean(np.sqrt(moor.u.values**2 + moor.v.values**2)))\n",
    "\n",
    "print(\">> bsr14\")\n",
    "moor_speed(bsr14)\n",
    "\n",
    "print(\"\\n>> bsr12_1\")\n",
    "moor_speed(bsr12_1)\n",
    "\n",
    "print(\"\\n>> bsr13a\")\n",
    "moor_speed(bsr13a)\n",
    "\n",
    "print(\"\\n>> istar1\")\n",
    "moor_speed(istar1)\n",
    "\n",
    "print(\"\\n>> istar4\")\n",
    "moor_speed(istar4)\n",
    "\n",
    "print(\"\\n>> istar5_1\")\n",
    "moor_speed(istar5_1)\n",
    "\n",
    "print(\"\\n>> troughW_0\")\n",
    "moor_speed(troughW0)\n",
    "\n",
    "print(\"\\n>> troughE_0\")\n",
    "moor_speed(troughE0)"
   ]
  },
  {
   "cell_type": "code",
   "execution_count": null,
   "id": "009c5c19",
   "metadata": {},
   "outputs": [],
   "source": []
  }
 ],
 "metadata": {
  "kernelspec": {
   "display_name": "Python 3",
   "language": "python",
   "name": "python3"
  },
  "language_info": {
   "codemirror_mode": {
    "name": "ipython",
    "version": 3
   },
   "file_extension": ".py",
   "mimetype": "text/x-python",
   "name": "python",
   "nbconvert_exporter": "python",
   "pygments_lexer": "ipython3",
   "version": "3.9.4"
  }
 },
 "nbformat": 4,
 "nbformat_minor": 5
}
